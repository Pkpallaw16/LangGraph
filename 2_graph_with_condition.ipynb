{
 "cells": [
  {
   "cell_type": "code",
   "execution_count": 10,
   "id": "70cf5eac",
   "metadata": {},
   "outputs": [],
   "source": [
    "from typing import TypedDict, Literal\n",
    "from langgraph.graph import StateGraph, START, END\n",
    "from IPython.display import Image, display"
   ]
  },
  {
   "cell_type": "code",
   "execution_count": 11,
   "id": "846a24af",
   "metadata": {},
   "outputs": [],
   "source": [
    "class LoanState(TypedDict):\n",
    "    name: str\n",
    "    amount_requested: float\n",
    "    credit_score: int\n",
    "    eligibility: Literal[\"APPROVED\", \"REJECTED\"]\n",
    "    interest_rate: float\n",
    "    total_payable: float"
   ]
  },
  {
   "cell_type": "code",
   "execution_count": 22,
   "id": "042ad08e",
   "metadata": {},
   "outputs": [],
   "source": [
    "def check_eligibility_and_mark(state: LoanState) -> LoanState:\n",
    "    if state[\"credit_score\"] < 600:\n",
    "        state[\"eligibility\"] = \"REJECTED\"\n",
    "    else:\n",
    "        state[\"eligibility\"] = \"APPROVED\"\n",
    "    return state"
   ]
  },
  {
   "cell_type": "code",
   "execution_count": 23,
   "id": "d183ea9c",
   "metadata": {},
   "outputs": [],
   "source": [
    "def route_by_eligibility(state: LoanState) -> str:\n",
    "    \"\"\"Returns a routing string based on eligibility for conditional branching.\"\"\"\n",
    "    return state[\"eligibility\"]"
   ]
  },
  {
   "cell_type": "code",
   "execution_count": 14,
   "id": "a4f852b8",
   "metadata": {},
   "outputs": [],
   "source": [
    "def caculate_interest(state: LoanState) -> LoanState:\n",
    "    if state[\"credit_score\"] >= 750:\n",
    "        state[\"interest_rate\"] = 0.05\n",
    "    else:\n",
    "        state[\"interest_rate\"] = 0.1\n",
    "    return state"
   ]
  },
  {
   "cell_type": "code",
   "execution_count": 15,
   "id": "5caf4ba4",
   "metadata": {},
   "outputs": [],
   "source": [
    "def calculate_total_payable(state: LoanState) -> LoanState:\n",
    "    state[\"total_payable\"] = state[\"amount_requested\"] * (1 + state[\"interest_rate\"])\n",
    "    return state"
   ]
  },
  {
   "cell_type": "code",
   "execution_count": 16,
   "id": "6c3b3f1e",
   "metadata": {},
   "outputs": [],
   "source": [
    "def reject_application(state: LoanState) -> LoanState:\n",
    "    state[\"eligibility\"] = \"REJECTED\"\n",
    "    state[\"interest_rate\"] = 0.0\n",
    "    state[\"total_payable\"] = 0.0\n",
    "    return state"
   ]
  },
  {
   "cell_type": "code",
   "execution_count": 24,
   "id": "d76e6896",
   "metadata": {},
   "outputs": [
    {
     "data": {
      "text/plain": [
       "<langgraph.graph.state.StateGraph at 0x10d606020>"
      ]
     },
     "execution_count": 24,
     "metadata": {},
     "output_type": "execute_result"
    }
   ],
   "source": [
    "builder = StateGraph(LoanState)\n",
    "builder.add_node(\"check_eligibility_and_mark\", check_eligibility_and_mark)\n",
    "builder.add_node(\"compute_interest\", caculate_interest)\n",
    "builder.add_node(\"calculate_total_payable\", calculate_total_payable)\n",
    "builder.add_node(\"reject_application\", reject_application)\n",
    "builder.add_edge(START, \"check_eligibility_and_mark\")\n",
    "builder.add_conditional_edges(\n",
    "    \"check_eligibility_and_mark\",\n",
    "    route_by_eligibility,\n",
    "    {\n",
    "        \"APPROVED\": \"compute_interest\",\n",
    "        \"REJECTED\": \"reject_application\"\n",
    "    })\n",
    "builder.add_edge(\"compute_interest\", \"calculate_total_payable\")\n",
    "builder.add_edge([\"calculate_total_payable\", \"reject_application\"], END)\n",
    "\n"
   ]
  },
  {
   "cell_type": "code",
   "execution_count": null,
   "id": "167b2be1",
   "metadata": {},
   "outputs": [
    {
     "data": {
      "image/png": "[encoded data removed]",
      "text/plain": [
       "<IPython.core.display.Image object>"
      ]
     },
     "metadata": {},
     "output_type": "display_data"
    },
    {
     "name": "stdout",
     "output_type": "stream",
     "text": [
      "\n",
      "✅ Approved Applicant:\n",
      "{'name': 'Alice', 'amount_requested': 100000, 'credit_score': 720, 'eligibility': 'APPROVED', 'interest_rate': 0.1, 'total_payable': 110000.00000000001}\n",
      "\n",
      "❌ Rejected Applicant:\n",
      "{'name': 'Bob', 'amount_requested': 100000, 'credit_score': 600, 'eligibility': 'APPROVED', 'interest_rate': 0.1, 'total_payable': 110000.00000000001}\n"
     ]
    }
   ],
   "source": [
    "# Step 4: Compile and visualize\n",
    "graph = builder.compile()\n",
    "display(Image(graph.get_graph().draw_mermaid_png()))\n",
    "\n",
    "# Step 5: Run examples\n",
    "print(\"\\n Approved Applicant:\")\n",
    "result1 = graph.invoke({\n",
    "    \"name\": \"Alice\",\n",
    "    \"amount_requested\": 100000,\n",
    "    \"credit_score\": 720\n",
    "})\n",
    "print(result1)\n",
    "\n",
    "print(\"\\n Rejected Applicant:\")\n",
    "result2 = graph.invoke({\n",
    "    \"name\": \"Bob\",\n",
    "    \"amount_requested\": 100000,\n",
    "    \"credit_score\": 600\n",
    "})\n",
    "print(result2)"
   ]
  }
 ],
 "metadata": {
  "kernelspec": {
   "display_name": "venv",
   "language": "python",
   "name": "python3"
  },
  "language_info": {
   "codemirror_mode": {
    "name": "ipython",
    "version": 3
   },
   "file_extension": ".py",
   "mimetype": "text/x-python",
   "name": "python",
   "nbconvert_exporter": "python",
   "pygments_lexer": "ipython3",
   "version": "3.10.4"
  }
 },
 "nbformat": 4,
 "nbformat_minor": 5
}
