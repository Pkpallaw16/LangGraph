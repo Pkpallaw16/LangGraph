{
 "cells": [
  {
   "cell_type": "code",
   "execution_count": 2,
   "id": "20a0c8ea",
   "metadata": {},
   "outputs": [],
   "source": [
    "from typing import TypedDict\n",
    "from langgraph.graph import StateGraph, START, END\n",
    "from IPython.display import Image, display"
   ]
  },
  {
   "cell_type": "code",
   "execution_count": 3,
   "id": "722dbb1d",
   "metadata": {},
   "outputs": [],
   "source": [
    "class LoanState(TypedDict):\n",
    "    name: str\n",
    "    amount_requested: float\n",
    "    credit_score: int\n",
    "    eligibile: bool\n",
    "    interest_rate: float\n",
    "    total_payable: float\n",
    "    "
   ]
  },
  {
   "cell_type": "code",
   "execution_count": 5,
   "id": "1484b7e5",
   "metadata": {},
   "outputs": [],
   "source": [
    "def check_eligibility(state: LoanState) -> LoanState:\n",
    "    if state[\"credit_score\"] < 650:\n",
    "        state[\"eligibile\"] = False\n",
    "    else:\n",
    "        state[\"eligibile\"] = True\n",
    "    return state"
   ]
  },
  {
   "cell_type": "code",
   "execution_count": 6,
   "id": "6053cf23",
   "metadata": {},
   "outputs": [],
   "source": [
    "def compute_interest(state: LoanState) -> LoanState:\n",
    "    if not state[\"eligibile\"]:\n",
    "        state[\"interest_rate\"] = 0.0\n",
    "    elif state[\"credit_score\"] >= 750:\n",
    "        state[\"interest_rate\"] = 0.05\n",
    "    else:\n",
    "        state[\"interest_rate\"] = 0.1\n",
    "    return state"
   ]
  },
  {
   "cell_type": "code",
   "execution_count": 7,
   "id": "5fd3aea5",
   "metadata": {},
   "outputs": [],
   "source": [
    "def calculate_total_payable(state: LoanState) -> LoanState:\n",
    "    state[\"total_payable\"] = state[\"amount_requested\"] * (1 + state[\"interest_rate\"])\n",
    "    return state"
   ]
  },
  {
   "cell_type": "code",
   "execution_count": 8,
   "id": "bc7be453",
   "metadata": {},
   "outputs": [
    {
     "data": {
      "text/plain": [
       "<langgraph.graph.state.StateGraph at 0x107aa8e80>"
      ]
     },
     "execution_count": 8,
     "metadata": {},
     "output_type": "execute_result"
    }
   ],
   "source": [
    "builder=StateGraph(LoanState)\n",
    "builder.add_node(\"checek_eligibility\", check_eligibility)\n",
    "builder.add_node(\"compute_interest\", compute_interest)\n",
    "builder.add_node(\"calculate_total_payable\", calculate_total_payable)\n",
    "builder.add_edge(START, \"checek_eligibility\")\n",
    "builder.add_edge(\"checek_eligibility\", \"compute_interest\")\n",
    "builder.add_edge(\"compute_interest\", \"calculate_total_payable\")\n",
    "builder.add_edge(\"calculate_total_payable\", END)"
   ]
  },
  {
   "cell_type": "code",
   "execution_count": 9,
   "id": "9472dfa7",
   "metadata": {},
   "outputs": [
    {
     "data": {
      "image/png": "[encoded data removed]",
      "text/plain": [
       "<IPython.core.display.Image object>"
      ]
     },
     "metadata": {},
     "output_type": "display_data"
    },
    {
     "name": "stdout",
     "output_type": "stream",
     "text": [
      "{'name': 'Alice', 'amount_requested': 100000, 'credit_score': 720, 'eligibile': True, 'interest_rate': 0.1, 'total_payable': 110000.00000000001}\n"
     ]
    }
   ],
   "source": [
    "graph= builder.compile()\n",
    "display(Image(graph.get_graph().draw_mermaid_png()))\n",
    "# Step 5: Run an example input\n",
    "input_data = {\n",
    "    \"name\": \"Alice\",\n",
    "    \"amount_requested\": 100000,\n",
    "    \"credit_score\": 720\n",
    "}\n",
    "\n",
    "result = graph.invoke(input_data)\n",
    "print(result)"
   ]
  }
 ],
 "metadata": {
  "kernelspec": {
   "display_name": "venv",
   "language": "python",
   "name": "python3"
  },
  "language_info": {
   "codemirror_mode": {
    "name": "ipython",
    "version": 3
   },
   "file_extension": ".py",
   "mimetype": "text/x-python",
   "name": "python",
   "nbconvert_exporter": "python",
   "pygments_lexer": "ipython3",
   "version": "3.10.4"
  }
 },
 "nbformat": 4,
 "nbformat_minor": 5
}
