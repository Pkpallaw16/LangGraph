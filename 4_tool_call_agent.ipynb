{
 "cells": [
  {
   "cell_type": "code",
   "execution_count": 2,
   "id": "ce84ba80",
   "metadata": {},
   "outputs": [
    {
     "data": {
      "text/plain": [
       "True"
      ]
     },
     "execution_count": 2,
     "metadata": {},
     "output_type": "execute_result"
    }
   ],
   "source": [
    "from typing import Annotated\n",
    "from typing_extensions import TypedDict\n",
    "from langgraph.graph import StateGraph, START, END\n",
    "from langgraph.graph.message import add_messages\n",
    "from langchain_openai import ChatOpenAI\n",
    "from langchain_core.tools import tool\n",
    "from langgraph.prebuilt import ToolNode, tools_condition\n",
    "from dotenv import load_dotenv\n",
    "import re\n",
    "load_dotenv()"
   ]
  },
  {
   "cell_type": "code",
   "execution_count": 3,
   "id": "43df8cb3",
   "metadata": {},
   "outputs": [],
   "source": [
    "class State(TypedDict):\n",
    "    messages: Annotated[list, add_messages]\n",
    "expense_log = []    "
   ]
  },
  {
   "cell_type": "code",
   "execution_count": 5,
   "id": "f80c354f",
   "metadata": {},
   "outputs": [],
   "source": [
    "@tool\n",
    "def log_expense(entry: str) -> str:\n",
    "    \"\"\"\n",
    "    Extracts amount and category from text and logs the expense.\n",
    "    \"\"\"\n",
    "    matches = re.findall(r\"\\$?(\\d+(?:\\.\\d{1,2})?)\\s*(?:on|for)?\\s*(\\w+)\", entry.lower())\n",
    "    if not matches:\n",
    "        return \"Could not parse any expenses.\"\n",
    "\n",
    "    for amount, category in matches:\n",
    "        expense_log.append((category, float(amount)))\n",
    "\n",
    "    return f\"Logged {len(matches)} expense(s).\"\n",
    "\n",
    "@tool\n",
    "def get_total_spending(category: str = \"\") -> str:\n",
    "    \"\"\"\n",
    "    Returns the total spending across all or one category.\n",
    "    \"\"\"\n",
    "    if category:\n",
    "        total = sum(amt for cat, amt in expense_log if cat == category.lower())\n",
    "        return f\"Total spent on {category}: ${total:.2f}\"\n",
    "    else:\n",
    "        total = sum(amt for _, amt in expense_log)\n",
    "        return f\"Total spent so far: ${total:.2f}\"\n"
   ]
  },
  {
   "cell_type": "code",
   "execution_count": 6,
   "id": "d16a61e2",
   "metadata": {},
   "outputs": [],
   "source": [
    "tools = [log_expense, get_total_spending]\n",
    "llm =  ChatOpenAI()\n",
    "llm_with_tools = llm.bind_tools(tools)\n",
    "def assistant(state: State) -> State:\n",
    "    result = llm_with_tools.invoke(state[\"messages\"])\n",
    "    return {\"messages\": [result]}\n"
   ]
  },
  {
   "cell_type": "code",
   "execution_count": null,
   "id": "e49e55a0",
   "metadata": {},
   "outputs": [],
   "source": [
    "builder = StateGraph(State)\n",
    "builder.add_node(\"assistant\", assistant)\n",
    "builder.add_node(\"tools\", ToolNode(tools))\n",
    "\n",
    "builder.add_edge(START, \"assistant\")\n",
    "builder.add_conditional_edges(\n",
    "    \"assistant\",\n",
    "    tools_condition,\n",
    "    {\n",
    "        \"tools\": \"tools\",\n",
    "        \"__end__\": END\n",
    "    }\n",
    ")\n",
    "builder.add_edge(\"tools\", \"assistant\")\n",
    "\n",
    "graph = builder.compile()"
   ]
  },
  {
   "cell_type": "code",
   "execution_count": 8,
   "id": "736a6897",
   "metadata": {},
   "outputs": [
    {
     "data": {
      "image/png": "[encoded data removed]",
      "text/plain": [
       "<IPython.core.display.Image object>"
      ]
     },
     "metadata": {},
     "output_type": "display_data"
    }
   ],
   "source": [
    "from IPython.display import Image, display\n",
    "display(Image(graph.get_graph().draw_mermaid_png()))"
   ]
  },
  {
   "cell_type": "code",
   "execution_count": null,
   "id": "c3e39e45",
   "metadata": {},
   "outputs": [
    {
     "name": "stdout",
     "output_type": "stream",
     "text": [
      "\n",
      " Logging multiple expenses...\n",
      "[HumanMessage(content='I spent $30 on groceries and $15 on snacks today.', additional_kwargs={}, response_metadata={}, id='1b979d6c-bc70-4516-b661-8e2b8b53631a'), AIMessage(content='', additional_kwargs={'tool_calls': [{'id': 'call_CetsiyPNpGG2ymGyRWZtHMDC', 'function': {'arguments': '{\"entry\": \"$30 on groceries\"}', 'name': 'log_expense'}, 'type': 'function'}, {'id': 'call_9SSwyujmcIH5tZ2KhFdYpMXC', 'function': {'arguments': '{\"entry\": \"$15 on snacks\"}', 'name': 'log_expense'}, 'type': 'function'}], 'refusal': None}, response_metadata={'token_usage': {'completion_tokens': 51, 'prompt_tokens': 96, 'total_tokens': 147, 'completion_tokens_details': {'accepted_prediction_tokens': 0, 'audio_tokens': 0, 'reasoning_tokens': 0, 'rejected_prediction_tokens': 0}, 'prompt_tokens_details': {'audio_tokens': 0, 'cached_tokens': 0}}, 'model_name': 'gpt-3.5-turbo-0125', 'system_fingerprint': None, 'id': 'chatcmpl-BoFylyQ5fjgA2RYDSQbFp3Ck4A8AN', 'service_tier': 'default', 'finish_reason': 'tool_calls', 'logprobs': None}, id='run--62e0eb77-09bb-409d-8522-c77ed43f013d-0', tool_calls=[{'name': 'log_expense', 'args': {'entry': '$30 on groceries'}, 'id': 'call_CetsiyPNpGG2ymGyRWZtHMDC', 'type': 'tool_call'}, {'name': 'log_expense', 'args': {'entry': '$15 on snacks'}, 'id': 'call_9SSwyujmcIH5tZ2KhFdYpMXC', 'type': 'tool_call'}], usage_metadata={'input_tokens': 96, 'output_tokens': 51, 'total_tokens': 147, 'input_token_details': {'audio': 0, 'cache_read': 0}, 'output_token_details': {'audio': 0, 'reasoning': 0}}), ToolMessage(content='Logged 1 expense(s).', name='log_expense', id='2775bc9a-0298-44e2-8baa-ba6b80704a39', tool_call_id='call_CetsiyPNpGG2ymGyRWZtHMDC'), ToolMessage(content='Logged 1 expense(s).', name='log_expense', id='4722b52e-fa6a-4a48-9b34-442f40ce7470', tool_call_id='call_9SSwyujmcIH5tZ2KhFdYpMXC'), AIMessage(content='Expenses have been logged successfully.', additional_kwargs={'refusal': None}, response_metadata={'token_usage': {'completion_tokens': 8, 'prompt_tokens': 173, 'total_tokens': 181, 'completion_tokens_details': {'accepted_prediction_tokens': 0, 'audio_tokens': 0, 'reasoning_tokens': 0, 'rejected_prediction_tokens': 0}, 'prompt_tokens_details': {'audio_tokens': 0, 'cached_tokens': 0}}, 'model_name': 'gpt-3.5-turbo-0125', 'system_fingerprint': None, 'id': 'chatcmpl-BoFymmIY770YB8hoWxy3I54GOc78v', 'service_tier': 'default', 'finish_reason': 'stop', 'logprobs': None}, id='run--61db216d-f83f-40a3-8fd4-ad53d48aa690-0', usage_metadata={'input_tokens': 173, 'output_tokens': 8, 'total_tokens': 181, 'input_token_details': {'audio': 0, 'cache_read': 0}, 'output_token_details': {'audio': 0, 'reasoning': 0}})] Expenses have been logged successfully.\n",
      "\n",
      " Add coffee expense...\n",
      "[HumanMessage(content='Log $8 on coffee.', additional_kwargs={}, response_metadata={}, id='0fe07f88-4e35-4932-bab7-d6af6e204973'), AIMessage(content='', additional_kwargs={'tool_calls': [{'id': 'call_22H8F2cwWLCwlCgsrx6bYDiJ', 'function': {'arguments': '{\"entry\":\"$8 on coffee\"}', 'name': 'log_expense'}, 'type': 'function'}], 'refusal': None}, response_metadata={'token_usage': {'completion_tokens': 18, 'prompt_tokens': 89, 'total_tokens': 107, 'completion_tokens_details': {'accepted_prediction_tokens': 0, 'audio_tokens': 0, 'reasoning_tokens': 0, 'rejected_prediction_tokens': 0}, 'prompt_tokens_details': {'audio_tokens': 0, 'cached_tokens': 0}}, 'model_name': 'gpt-3.5-turbo-0125', 'system_fingerprint': None, 'id': 'chatcmpl-BoFyn8PvdmjBkv0jTbjdGKomIX24F', 'service_tier': 'default', 'finish_reason': 'tool_calls', 'logprobs': None}, id='run--7f6f3bd9-9fc6-4c07-8c29-993aa354d0c5-0', tool_calls=[{'name': 'log_expense', 'args': {'entry': '$8 on coffee'}, 'id': 'call_22H8F2cwWLCwlCgsrx6bYDiJ', 'type': 'tool_call'}], usage_metadata={'input_tokens': 89, 'output_tokens': 18, 'total_tokens': 107, 'input_token_details': {'audio': 0, 'cache_read': 0}, 'output_token_details': {'audio': 0, 'reasoning': 0}}), ToolMessage(content='Logged 1 expense(s).', name='log_expense', id='7499b03d-c6e5-4052-92c2-07d76176bb2e', tool_call_id='call_22H8F2cwWLCwlCgsrx6bYDiJ'), AIMessage(content='Expense of $8 on coffee has been successfully logged.', additional_kwargs={'refusal': None}, response_metadata={'token_usage': {'completion_tokens': 12, 'prompt_tokens': 122, 'total_tokens': 134, 'completion_tokens_details': {'accepted_prediction_tokens': 0, 'audio_tokens': 0, 'reasoning_tokens': 0, 'rejected_prediction_tokens': 0}, 'prompt_tokens_details': {'audio_tokens': 0, 'cached_tokens': 0}}, 'model_name': 'gpt-3.5-turbo-0125', 'system_fingerprint': None, 'id': 'chatcmpl-BoFyoSws95bjbEUBv6CHrJeIt6IaZ', 'service_tier': 'default', 'finish_reason': 'stop', 'logprobs': None}, id='run--c48b86e0-a2ed-44a3-958b-0aa6497728f0-0', usage_metadata={'input_tokens': 122, 'output_tokens': 12, 'total_tokens': 134, 'input_token_details': {'audio': 0, 'cache_read': 0}, 'output_token_details': {'audio': 0, 'reasoning': 0}})] Expense of $8 on coffee has been successfully logged.\n",
      "\n",
      " Ask total...\n",
      "[HumanMessage(content=\"What's my total spending?\", additional_kwargs={}, response_metadata={}, id='6d857c28-8abb-4dae-9b8d-f518d97039ec'), AIMessage(content='', additional_kwargs={'tool_calls': [{'id': 'call_pGg27vQKLgMsp1FzkSnAGEAn', 'function': {'arguments': '{}', 'name': 'get_total_spending'}, 'type': 'function'}], 'refusal': None}, response_metadata={'token_usage': {'completion_tokens': 12, 'prompt_tokens': 89, 'total_tokens': 101, 'completion_tokens_details': {'accepted_prediction_tokens': 0, 'audio_tokens': 0, 'reasoning_tokens': 0, 'rejected_prediction_tokens': 0}, 'prompt_tokens_details': {'audio_tokens': 0, 'cached_tokens': 0}}, 'model_name': 'gpt-3.5-turbo-0125', 'system_fingerprint': None, 'id': 'chatcmpl-BoFypzst3ycEznsG16RJ9W8YUNh6J', 'service_tier': 'default', 'finish_reason': 'tool_calls', 'logprobs': None}, id='run--e5cc5a95-428b-4421-8551-afef936c224a-0', tool_calls=[{'name': 'get_total_spending', 'args': {}, 'id': 'call_pGg27vQKLgMsp1FzkSnAGEAn', 'type': 'tool_call'}], usage_metadata={'input_tokens': 89, 'output_tokens': 12, 'total_tokens': 101, 'input_token_details': {'audio': 0, 'cache_read': 0}, 'output_token_details': {'audio': 0, 'reasoning': 0}}), ToolMessage(content='Total spent so far: $53.00', name='get_total_spending', id='f73b92d8-e021-4465-b9cf-13e932938646', tool_call_id='call_pGg27vQKLgMsp1FzkSnAGEAn'), AIMessage(content='Your total spending so far is $53.00.', additional_kwargs={'refusal': None}, response_metadata={'token_usage': {'completion_tokens': 12, 'prompt_tokens': 120, 'total_tokens': 132, 'completion_tokens_details': {'accepted_prediction_tokens': 0, 'audio_tokens': 0, 'reasoning_tokens': 0, 'rejected_prediction_tokens': 0}, 'prompt_tokens_details': {'audio_tokens': 0, 'cached_tokens': 0}}, 'model_name': 'gpt-3.5-turbo-0125', 'system_fingerprint': None, 'id': 'chatcmpl-BoFyqxZnpFQGKw1QkFDw2oszwPNAe', 'service_tier': 'default', 'finish_reason': 'stop', 'logprobs': None}, id='run--c92449cb-98df-4b46-b9fb-cdbdafcbc41b-0', usage_metadata={'input_tokens': 120, 'output_tokens': 12, 'total_tokens': 132, 'input_token_details': {'audio': 0, 'cache_read': 0}, 'output_token_details': {'audio': 0, 'reasoning': 0}})] Your total spending so far is $53.00.\n",
      "\n",
      " Ask spending on snacks...\n",
      "[HumanMessage(content='How much did I spend on snacks?', additional_kwargs={}, response_metadata={}, id='dc694f17-f34d-4c2e-83e4-fc61944ee7ea'), AIMessage(content='', additional_kwargs={'tool_calls': [{'id': 'call_EjDt3P8HojDH4JQUrd88taeK', 'function': {'arguments': '{\"category\":\"snacks\"}', 'name': 'get_total_spending'}, 'type': 'function'}], 'refusal': None}, response_metadata={'token_usage': {'completion_tokens': 17, 'prompt_tokens': 91, 'total_tokens': 108, 'completion_tokens_details': {'accepted_prediction_tokens': 0, 'audio_tokens': 0, 'reasoning_tokens': 0, 'rejected_prediction_tokens': 0}, 'prompt_tokens_details': {'audio_tokens': 0, 'cached_tokens': 0}}, 'model_name': 'gpt-3.5-turbo-0125', 'system_fingerprint': None, 'id': 'chatcmpl-BoFyqHQtyiNwGj9f3xE8oddiYpKPo', 'service_tier': 'default', 'finish_reason': 'tool_calls', 'logprobs': None}, id='run--da84dfe3-41a7-4e89-8d1a-3bcbf1560ceb-0', tool_calls=[{'name': 'get_total_spending', 'args': {'category': 'snacks'}, 'id': 'call_EjDt3P8HojDH4JQUrd88taeK', 'type': 'tool_call'}], usage_metadata={'input_tokens': 91, 'output_tokens': 17, 'total_tokens': 108, 'input_token_details': {'audio': 0, 'cache_read': 0}, 'output_token_details': {'audio': 0, 'reasoning': 0}}), ToolMessage(content='Total spent on snacks: $15.00', name='get_total_spending', id='dad36d52-3d55-45d7-9567-88d3e5313b6d', tool_call_id='call_EjDt3P8HojDH4JQUrd88taeK'), AIMessage(content='You spent a total of $15.00 on snacks.', additional_kwargs={'refusal': None}, response_metadata={'token_usage': {'completion_tokens': 13, 'prompt_tokens': 127, 'total_tokens': 140, 'completion_tokens_details': {'accepted_prediction_tokens': 0, 'audio_tokens': 0, 'reasoning_tokens': 0, 'rejected_prediction_tokens': 0}, 'prompt_tokens_details': {'audio_tokens': 0, 'cached_tokens': 0}}, 'model_name': 'gpt-3.5-turbo-0125', 'system_fingerprint': None, 'id': 'chatcmpl-BoFyrVKwF4ue9hH045rLm2qFtpC7M', 'service_tier': 'default', 'finish_reason': 'stop', 'logprobs': None}, id='run--9025f0cb-3c83-4733-8ab8-64933ac294b2-0', usage_metadata={'input_tokens': 127, 'output_tokens': 13, 'total_tokens': 140, 'input_token_details': {'audio': 0, 'cache_read': 0}, 'output_token_details': {'audio': 0, 'reasoning': 0}})] You spent a total of $15.00 on snacks.\n",
      "\n",
      " Ask general question...\n",
      "[HumanMessage(content='Who founded OpenAI?', additional_kwargs={}, response_metadata={}, id='749dd287-b8e5-42fa-925f-441fb8726795'), AIMessage(content='OpenAI was founded by Elon Musk, Sam Altman, Greg Brockman, Ilya Sutskever, John Schulman, and Wojciech Zaremba.', additional_kwargs={'refusal': None}, response_metadata={'token_usage': {'completion_tokens': 37, 'prompt_tokens': 88, 'total_tokens': 125, 'completion_tokens_details': {'accepted_prediction_tokens': 0, 'audio_tokens': 0, 'reasoning_tokens': 0, 'rejected_prediction_tokens': 0}, 'prompt_tokens_details': {'audio_tokens': 0, 'cached_tokens': 0}}, 'model_name': 'gpt-3.5-turbo-0125', 'system_fingerprint': None, 'id': 'chatcmpl-BoFyrQJYsKxL4u1fRAbOXoxHnGf8B', 'service_tier': 'default', 'finish_reason': 'stop', 'logprobs': None}, id='run--1e4c9dc8-1826-43be-8f95-3cd92d93d4e0-0', usage_metadata={'input_tokens': 88, 'output_tokens': 37, 'total_tokens': 125, 'input_token_details': {'audio': 0, 'cache_read': 0}, 'output_token_details': {'audio': 0, 'reasoning': 0}})] OpenAI was founded by Elon Musk, Sam Altman, Greg Brockman, Ilya Sutskever, John Schulman, and Wojciech Zaremba.\n"
     ]
    }
   ],
   "source": [
    "# Add some expenses\n",
    "print(\"\\n Logging multiple expenses...\")\n",
    "state = graph.invoke({\n",
    "    \"messages\": [{\"role\": \"user\", \"content\": \"I spent $30 on groceries and $15 on snacks today.\"}]\n",
    "})\n",
    "print(state[\"messages\"][-1].content)\n",
    "\n",
    "# Add another expense\n",
    "print(\"\\n Add coffee expense...\")\n",
    "state = graph.invoke({\n",
    "    \"messages\": [{\"role\": \"user\", \"content\": \"Log $8 on coffee.\"}]\n",
    "})\n",
    "print(state[\"messages\"][-1].content)\n",
    "\n",
    "# Ask total spent\n",
    "print(\"\\n Ask total...\")\n",
    "state = graph.invoke({\n",
    "    \"messages\": [{\"role\": \"user\", \"content\": \"What's my total spending?\"}]\n",
    "})\n",
    "print(state[\"messages\"][-1].content)\n",
    "\n",
    "# Ask for category-wise spending\n",
    "print(\"\\n Ask spending on snacks...\")\n",
    "state = graph.invoke({\n",
    "    \"messages\": [{\"role\": \"user\", \"content\": \"How much did I spend on snacks?\"}]\n",
    "})\n",
    "print(state[\"messages\"][-1].content)\n",
    "\n",
    "# General knowledge — LLM only\n",
    "print(\"\\n Ask general question...\")\n",
    "state = graph.invoke({\n",
    "    \"messages\": [{\"role\": \"user\", \"content\": \"Who founded OpenAI?\"}]\n",
    "})\n",
    "print(state[\"messages\"][-1].content)"
   ]
  }
 ],
 "metadata": {
  "kernelspec": {
   "display_name": "venv",
   "language": "python",
   "name": "python3"
  },
  "language_info": {
   "codemirror_mode": {
    "name": "ipython",
    "version": 3
   },
   "file_extension": ".py",
   "mimetype": "text/x-python",
   "name": "python",
   "nbconvert_exporter": "python",
   "pygments_lexer": "ipython3",
   "version": "3.10.4"
  }
 },
 "nbformat": 4,
 "nbformat_minor": 5
}
