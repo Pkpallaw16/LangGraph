{
 "cells": [
  {
   "cell_type": "code",
   "execution_count": 2,
   "id": "c53a524d",
   "metadata": {},
   "outputs": [],
   "source": [
    "import os\n",
    "# Load environment variables from .env file\n",
    "from dotenv import load_dotenv\n",
    "from langchain.chat_models import ChatOpenAI\n",
    "from typing import Annotated, TypedDict\n",
    "from langgraph.graph import StateGraph, START, END\n",
    "from langgraph.graph.message import add_messages\n"
   ]
  },
  {
   "cell_type": "code",
   "execution_count": 3,
   "id": "57d4aaff",
   "metadata": {},
   "outputs": [
    {
     "name": "stderr",
     "output_type": "stream",
     "text": [
      "/var/folders/s5/pn9wl0y93zx580k57w68lgqc0000gn/T/ipykernel_5147/2194734836.py:2: LangChainDeprecationWarning: The class `ChatOpenAI` was deprecated in LangChain 0.0.10 and will be removed in 1.0. An updated version of the class exists in the :class:`~langchain-openai package and should be used instead. To use it run `pip install -U :class:`~langchain-openai` and import as `from :class:`~langchain_openai import ChatOpenAI``.\n",
      "  llm =  ChatOpenAI()\n"
     ]
    }
   ],
   "source": [
    "load_dotenv()# Initialize the chat model\n",
    "llm =  ChatOpenAI()\n",
    "# Define the state type\n",
    "class MathChatState(TypedDict):\n",
    "    messages: Annotated[list,add_messages]\n",
    "\n",
    "def math_bot_node(state: MathChatState) -> MathChatState:\n",
    "    \"\"\"\n",
    "    A node that interacts with the user to solve a math problem.\n",
    "    \"\"\"\n",
    "    reply = llm.invoke(state[\"messages\"])\n",
    "    return {\"messages\": [reply]}  # add_messages will merge it\n"
   ]
  },
  {
   "cell_type": "code",
   "execution_count": 6,
   "id": "cf586f49",
   "metadata": {},
   "outputs": [
    {
     "data": {
      "image/png": "[encoded data removed]",
      "text/plain": [
       "<IPython.core.display.Image object>"
      ]
     },
     "metadata": {},
     "output_type": "display_data"
    }
   ],
   "source": [
    "build_graph = StateGraph(MathChatState) \n",
    "build_graph.add_node(\"math_bot\", math_bot_node)\n",
    "build_graph.add_edge(START, \"math_bot\")\n",
    "build_graph.add_edge(\"math_bot\", END)\n",
    "# Create the graph  \n",
    "math_chat_graph = build_graph.compile()   \n",
    "# Display the graph \n",
    "from IPython.display import Image, display\n",
    "display(Image(math_chat_graph.get_graph().draw_mermaid_png()))     \n"
   ]
  },
  {
   "cell_type": "code",
   "execution_count": null,
   "id": "00b1243a",
   "metadata": {},
   "outputs": [
    {
     "name": "stdout",
     "output_type": "stream",
     "text": [
      "🤖 MathBot is ready. Type 'exit' to quit.\n",
      "Bot: 27 * 14 = 378\n",
      "Bot: 378 + 122 = 500\n"
     ]
    }
   ],
   "source": [
    "# --- Step 4: Interactive chat loop ---\n",
    "print(\" MathBot is ready. Type 'exit' to quit.\")\n",
    "\n",
    "chat_state = None\n",
    "while True:\n",
    "    user_input = input(\"You: \")\n",
    "    if user_input.lower() in {\"exit\", \"quit\"}:\n",
    "        break\n",
    "\n",
    "    # Build initial or ongoing state\n",
    "    if chat_state is None:\n",
    "        chat_state = {\"messages\": [{\"role\": \"user\", \"content\": user_input}]}\n",
    "    else:\n",
    "        chat_state[\"messages\"].append({\"role\": \"user\", \"content\": user_input})\n",
    "\n",
    "    # Call the graph\n",
    "    chat_state = math_chat_graph.invoke(chat_state)\n",
    "\n",
    "    # Print latest LLM response\n",
    "    bot_reply = chat_state[\"messages\"][-1].content\n",
    "    print(\"Bot:\", bot_reply)"
   ]
  }
 ],
 "metadata": {
  "kernelspec": {
   "display_name": "venv",
   "language": "python",
   "name": "python3"
  },
  "language_info": {
   "codemirror_mode": {
    "name": "ipython",
    "version": 3
   },
   "file_extension": ".py",
   "mimetype": "text/x-python",
   "name": "python",
   "nbconvert_exporter": "python",
   "pygments_lexer": "ipython3",
   "version": "3.10.4"
  }
 },
 "nbformat": 4,
 "nbformat_minor": 5
}
